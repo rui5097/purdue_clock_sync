{
 "cells": [
  {
   "cell_type": "code",
   "execution_count": 2,
   "id": "a4582537",
   "metadata": {},
   "outputs": [],
   "source": [
    "import pandas as pd\n",
    "import matplotlib.pyplot as plt\n",
    "import seaborn as sns\n",
    "import csv"
   ]
  },
  {
   "cell_type": "code",
   "execution_count": 3,
   "id": "8bebbc9b",
   "metadata": {},
   "outputs": [],
   "source": [
    "def show_delay_plt(step=0):\n",
    "    data = pd.read_csv(f\"{config.get('config', 'output_link_info')}link_info_{step}.csv\")\n",
    "\n",
    "    plt.scatter(data['distance(Km)'], data['delay(Millisecond)'])\n",
    "    plt.xlabel('Distance (Km)')\n",
    "    plt.ylabel('Delay (Millisecond)')\n",
    "    plt.title('Distance vs. Delay')\n",
    "    plt.show()"
   ]
  },
  {
   "cell_type": "code",
   "execution_count": 4,
   "id": "4ea1eac4",
   "metadata": {},
   "outputs": [],
   "source": [
    "def show_clocks_time(step=0):\n",
    "    data = pd.read_csv(f\"{config.get('config', 'output_clocks_delay')}clocks_delay_{step}.csv\", header=None)\n",
    "    nodes = []\n",
    "    for clock in data.iloc[0]:\n",
    "        nodes.append(clock)\n",
    "    times = []\n",
    "    for time in data.iloc[1]:\n",
    "        data = time.split(\".\")[1]\n",
    "        data = data[6:9]+\".\"+data[9:]\n",
    "        times.append(float(data))\n",
    "    plt.bar(nodes, times)\n",
    "    plt.xlabel('Clock')\n",
    "    plt.ylabel('Clock Time Error(ns)')\n",
    "    plt.title('Clock Time Error for Each Clock')\n",
    "    plt.ylim(min((times))-1,max((times))+1)\n",
    "    plt.show()"
   ]
  },
  {
   "cell_type": "code",
   "execution_count": 5,
   "id": "3106d06e",
   "metadata": {},
   "outputs": [],
   "source": [
    "def show_clocks_delay(step=0):\n",
    "    data = []\n",
    "    with open(f\"{config.get('config', 'output_clocks_delay')}clocks_delay_{step}.csv\", 'r') as file:\n",
    "        reader = csv.reader(file)\n",
    "        data = [row for row in reader]\n",
    "    data.pop(1)\n",
    "    nodes = data[0]\n",
    "    values = [float(entry[2]) for entry in data[1:]]\n",
    "\n",
    "    matrix_size = len(nodes)\n",
    "    matrix = np.zeros((matrix_size, matrix_size))\n",
    "    for entry in data[1:]:\n",
    "        row_index = nodes.index(entry[0])\n",
    "        col_index = nodes.index(entry[1])\n",
    "        matrix[row_index, col_index] = float(entry[2])\n",
    "\n",
    "    plt.imshow(matrix, cmap='viridis', aspect='auto', vmin=0, vmax=np.max(values))\n",
    "\n",
    "    plt.colorbar(label='Delay(s)')\n",
    "\n",
    "    plt.xticks(np.arange(matrix_size), nodes)\n",
    "    plt.yticks(np.arange(matrix_size), nodes)\n",
    "\n",
    "    for i in range(matrix_size):\n",
    "        for j in range(matrix_size):\n",
    "            plt.text(j, i, f'{matrix[i, j]:.4f}', ha='center', va='center', color='white')\n",
    "\n",
    "    plt.title('Delay Between Every Two Clocks')\n",
    "    plt.show()"
   ]
  },
  {
   "cell_type": "code",
   "execution_count": null,
   "id": "7f6dfd0f",
   "metadata": {},
   "outputs": [],
   "source": [
    "def show_error_with_time(data_dict,main_clock):\n",
    "    true_times = data_dict[main_clock]\n",
    "    for key,value in data_dict.items():\n",
    "        if(key != \"true time\" and key != main_clock):\n",
    "            data = [(clock_time - true_time)*1e6 for clock_time, true_time in zip(value, true_times)]\n",
    "            plt.plot(data, label=key.show_name)\n",
    "\n",
    "    plt.title(\"Salve Clocks' Error to Main Clock\")\n",
    "    plt.xlabel(f\"{config.get('config', 'simulate_stride')} Second\")\n",
    "    plt.ylabel(\"Nanosecond\")\n",
    "\n",
    "    plt.legend()\n",
    "    plt.show()"
   ]
  }
 ],
 "metadata": {
  "kernelspec": {
   "display_name": "Python 3 (ipykernel)",
   "language": "python",
   "name": "python3"
  },
  "language_info": {
   "codemirror_mode": {
    "name": "ipython",
    "version": 3
   },
   "file_extension": ".py",
   "mimetype": "text/x-python",
   "name": "python",
   "nbconvert_exporter": "python",
   "pygments_lexer": "ipython3",
   "version": "3.11.6"
  },
  "varInspector": {
   "cols": {
    "lenName": 16,
    "lenType": 16,
    "lenVar": 40
   },
   "kernels_config": {
    "python": {
     "delete_cmd_postfix": "",
     "delete_cmd_prefix": "del ",
     "library": "var_list.py",
     "varRefreshCmd": "print(var_dic_list())"
    },
    "r": {
     "delete_cmd_postfix": ") ",
     "delete_cmd_prefix": "rm(",
     "library": "var_list.r",
     "varRefreshCmd": "cat(var_dic_list()) "
    }
   },
   "types_to_exclude": [
    "module",
    "function",
    "builtin_function_or_method",
    "instance",
    "_Feature"
   ],
   "window_display": false
  }
 },
 "nbformat": 4,
 "nbformat_minor": 5
}
