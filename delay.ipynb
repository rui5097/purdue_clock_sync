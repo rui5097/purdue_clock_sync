{
 "cells": [
  {
   "cell_type": "code",
   "execution_count": 49,
   "id": "ca213565",
   "metadata": {},
   "outputs": [],
   "source": [
    "import configparser\n",
    "import csv\n",
    "import random\n",
    "config = configparser.ConfigParser()\n",
    "a = config.read('config.ini')"
   ]
  },
  {
   "cell_type": "code",
   "execution_count": 51,
   "id": "4e1607cb",
   "metadata": {},
   "outputs": [],
   "source": [
    "def jitter(mean, std=0.2):\n",
    "    sigma = mean*std\n",
    "    k=random.gauss(mean, sigma)\n",
    "    return k\n",
    "\n",
    "def clockDeltaTime(t):\n",
    "    exec(config.get(\"clock\",\"clock_delay_function\"))\n",
    "    return locals()['delta']\n",
    "\n",
    "# print(clockDeltaTime(12*60*60)) # inputting is seconds."
   ]
  },
  {
   "cell_type": "code",
   "execution_count": 2,
   "id": "bff164e0",
   "metadata": {},
   "outputs": [],
   "source": [
    "def networkMessageDelay(transPackageSize, transBandWidth, propagationDistance, propagationLoss,propagationSpeed=2 ):\n",
    "    transTime =  (transPackageSize *8 * (1+ propagationLoss)) / (transBandWidth* 1.e6)\n",
    "    propagationTime = 1000*propagationDistance / ( propagationSpeed * 1.e8)\n",
    "    total=0.0\n",
    "    subTotal=0.0\n",
    "    subTotal= transTime + propagationTime\n",
    "    total =subTotal+jitter(subTotal)\n",
    "    return total  # return seconds"
   ]
  },
  {
   "cell_type": "code",
   "execution_count": 4,
   "id": "6a78c7e8",
   "metadata": {},
   "outputs": [],
   "source": [
    "def serverOperatorTime(hardwareDelay=0.1,softwareDealy=0.25):\n",
    "    h=0.0\n",
    "    s=0.0\n",
    "    h += jitter(hardwareDelay)\n",
    "    s += jitter(softwareDealy)\n",
    "    return h+s\n",
    " \n",
    "\n",
    "def curTimestamp():\n",
    "    from datetime import datetime, timezone\n",
    "    #print(datetime.now().timestamp())\n",
    "    return datetime.now().timestamp()"
   ]
  },
  {
   "cell_type": "code",
   "execution_count": 4,
   "id": "e5d40ea6",
   "metadata": {},
   "outputs": [],
   "source": [
    "#c0->r1->r2->r3->c1\n",
    "\n",
    "#package_size: 2000 Byte\n",
    "\n",
    "#transBandWidth: 1Gb, 10GB, 10Gb, 11MB\n",
    "\n",
    "#distance: 0.1km, 2km, 8km, 0.1km\n",
    "\n",
    "#propagationSpeed: 2 * 1.e8\n",
    "\n",
    "#Signal_loss: 0.01%, 0.01%, 0.15%, 0.5%\n",
    "\n",
    "\n",
    "#Travel_Time_from_c0_to_c1:\n",
    "\n",
    "def Message_Time_from_c0_to_c1():\n",
    "    t1=networkMessageDelay(2000, 1024, 0.1, 0.01)\n",
    "    # print(\"t1=%.12f\"% t1, \"seconds\")\n",
    "    \n",
    "    t2=networkMessageDelay(2000, 10240, 2, 0.01)\n",
    "    # print(\"t2=%.12f\"% t2, \"seconds\")\n",
    "    \n",
    "    t3=networkMessageDelay(2000, 10240, 8, 0.15)\n",
    "    # print(\"t3=%.12f\"% t3, \"seconds\")\n",
    "    \n",
    "    t4=networkMessageDelay(2000, 11, 0.1, 0.5)\n",
    "    # print(\"t4=%.12f\"% t4, \"seconds\")\n",
    "    \n",
    "    totalTime= t1+t2+t3+t4\n",
    "    return totalTime "
   ]
  },
  {
   "cell_type": "code",
   "execution_count": 1,
   "id": "1f757053",
   "metadata": {},
   "outputs": [],
   "source": [
    "def purdueCampus():\n",
    "    c1_send= curTimestamp()-jitter(100)\n",
    "    c1_to_c0 =  Message_Time_from_c0_to_c1()\n",
    "    c0_server =  curTimestamp()\n",
    "    c0_to_c1 =  Message_Time_from_c0_to_c1()\n",
    "    msgDelay =  c1_to_c0 +c0_to_c1\n",
    "    #c1_recv=  c1_send + clockDeltaTime(msgDelay)\n",
    "    halfMsgDelay = msgDelay/2\n",
    "    print(\"\\n\\n'c1'=%.9f\" % c1_send, \"seconds\")\n",
    "    print(\" c1 =%.9f\" % (halfMsgDelay +c0_server), \"seconds\")\n",
    "    print(\" c0 =%.9f\" % (c0_server + c0_to_c1), \"seconds\")"
   ]
  }
 ],
 "metadata": {
  "kernelspec": {
   "display_name": "Python 3 (ipykernel)",
   "language": "python",
   "name": "python3"
  },
  "language_info": {
   "codemirror_mode": {
    "name": "ipython",
    "version": 3
   },
   "file_extension": ".py",
   "mimetype": "text/x-python",
   "name": "python",
   "nbconvert_exporter": "python",
   "pygments_lexer": "ipython3",
   "version": "3.11.6"
  },
  "varInspector": {
   "cols": {
    "lenName": 16,
    "lenType": 16,
    "lenVar": 40
   },
   "kernels_config": {
    "python": {
     "delete_cmd_postfix": "",
     "delete_cmd_prefix": "del ",
     "library": "var_list.py",
     "varRefreshCmd": "print(var_dic_list())"
    },
    "r": {
     "delete_cmd_postfix": ") ",
     "delete_cmd_prefix": "rm(",
     "library": "var_list.r",
     "varRefreshCmd": "cat(var_dic_list()) "
    }
   },
   "types_to_exclude": [
    "module",
    "function",
    "builtin_function_or_method",
    "instance",
    "_Feature"
   ],
   "window_display": false
  }
 },
 "nbformat": 4,
 "nbformat_minor": 5
}
