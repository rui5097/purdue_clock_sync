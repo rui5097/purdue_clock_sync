{
 "cells": [
  {
   "cell_type": "code",
   "execution_count": null,
   "id": "609142fa",
   "metadata": {},
   "outputs": [],
   "source": [
    "from IPython.display import clear_output\n",
    "import random"
   ]
  },
  {
   "cell_type": "code",
   "execution_count": null,
   "id": "7dc7eb3d",
   "metadata": {},
   "outputs": [],
   "source": [
    "%run sim_network.ipynb\n",
    "%run berkeley.ipynb\n",
    "%run util.ipynb\n",
    "%run show_plt.ipynb"
   ]
  },
  {
   "cell_type": "code",
   "execution_count": null,
   "id": "f0b6e976",
   "metadata": {},
   "outputs": [],
   "source": [
    "print_g_route()"
   ]
  },
  {
   "cell_type": "code",
   "execution_count": null,
   "id": "45e326a1",
   "metadata": {},
   "outputs": [],
   "source": [
    "stride = float(config.get('config', 'simulate_stride'))\n",
    "true_time = 0.0\n",
    "error_nodes_data = {}\n",
    "clocks = get_clocks(nodes)\n",
    "main_clock = get_main_clock(clocks)\n",
    "print(f\"main clock = {main_clock.show_name}\")\n",
    "slave_clocks = get_slave_clocks(clocks,main_clock)\n",
    "error_nodes_data['true time'] = []\n",
    "for clock in clocks:\n",
    "    error_nodes_data[clock] = []\n",
    "\n",
    "def set_error_nodes_data(error_nodes_data):\n",
    "    error_nodes_data['true time'].append(true_time)\n",
    "    for clock in clocks:\n",
    "        error_nodes_data[clock].append(clock.time)"
   ]
  },
  {
   "cell_type": "code",
   "execution_count": null,
   "id": "270d9f01",
   "metadata": {},
   "outputs": [],
   "source": [
    "remove_file(config.get('config', 'output_clocks_delay'),\"*.csv\")\n",
    "remove_file(config.get('config', 'output_link_info'),\"*.csv\")\n",
    "remove_file(config.get('config', 'output_visualization'),\"*.png\")\n",
    "step = 0\n",
    "while step < int(config.get('config', 'simulate_max_steps')):\n",
    "    step+=1\n",
    "    print(f'\\nstep{step}---------------------------------------------------------------')\n",
    "    print(f'          {format_time_units()}          {format_time_units()}')\n",
    "    print(f'True Time {format_time(true_time)}\\n')\n",
    "    set_error_nodes_data(error_nodes_data)\n",
    "    for clock in clocks:\n",
    "        print(f'{clock.show_name}    {format_time(clock.time)}    Error:{format_time(clock.time - true_time)}')\n",
    "        clock.time += stride+clockDeltaTime(step*stride)\n",
    "    true_time += stride\n",
    "    reset_all_links_delay(links,package_size)\n",
    "    for slave_clock in slave_clocks:\n",
    "        clear_all_route(g,routes,links)\n",
    "        create_best_route(main_clock.name,slave_clock.name)\n",
    "        set_default_properties(links,nodes)\n",
    "        print_g_route(f\"output/visualization/{step}_{main_clock.show_name} To {slave_clock.show_name}.png\")\n",
    "    save_all_links_delay(links,step)\n",
    "    if step % 10 == 0:\n",
    "        new_time = run_berkeley_algorithm(main_node=clock.show_name,step=step)\n",
    "        print(f\"Target Time :{new_time}\")\n",
    "        for clock in clocks:\n",
    "            print(f\"Correction of {clock.show_name}: {float(new_time)-clock.time}\")\n",
    "            clock.time = float(new_time)\n",
    "        time.sleep(float(config.get('config', 'simulate_berkeley_wait_time')))\n",
    "    time.sleep(float(config.get('config', 'simulate_normal_wait_time')))"
   ]
  },
  {
   "cell_type": "code",
   "execution_count": null,
   "id": "556c3434",
   "metadata": {},
   "outputs": [],
   "source": [
    "show_delay_plt(step)\n",
    "show_clocks_time(step)\n",
    "show_clocks_delay(step)\n",
    "show_error_with_time(error_nodes_data,main_clock)"
   ]
  },
  {
   "cell_type": "code",
   "execution_count": null,
   "id": "c8dc9b2f",
   "metadata": {},
   "outputs": [],
   "source": [
    "!jupyter nbconvert --clear-output --inplace show.ipynb"
   ]
  }
 ],
 "metadata": {
  "kernelspec": {
   "display_name": "Python 3 (ipykernel)",
   "language": "python",
   "name": "python3"
  },
  "language_info": {
   "codemirror_mode": {
    "name": "ipython",
    "version": 3
   },
   "file_extension": ".py",
   "mimetype": "text/x-python",
   "name": "python",
   "nbconvert_exporter": "python",
   "pygments_lexer": "ipython3",
   "version": "3.11.6"
  },
  "varInspector": {
   "cols": {
    "lenName": 16,
    "lenType": 16,
    "lenVar": 40
   },
   "kernels_config": {
    "python": {
     "delete_cmd_postfix": "",
     "delete_cmd_prefix": "del ",
     "library": "var_list.py",
     "varRefreshCmd": "print(var_dic_list())"
    },
    "r": {
     "delete_cmd_postfix": ") ",
     "delete_cmd_prefix": "rm(",
     "library": "var_list.r",
     "varRefreshCmd": "cat(var_dic_list()) "
    }
   },
   "types_to_exclude": [
    "module",
    "function",
    "builtin_function_or_method",
    "instance",
    "_Feature"
   ],
   "window_display": false
  }
 },
 "nbformat": 4,
 "nbformat_minor": 5
}
