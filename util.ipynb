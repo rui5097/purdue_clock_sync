{
 "cells": [
  {
   "cell_type": "code",
   "execution_count": 1,
   "id": "5f4ecb29",
   "metadata": {},
   "outputs": [],
   "source": [
    "import os\n",
    "import glob"
   ]
  },
  {
   "cell_type": "code",
   "execution_count": null,
   "id": "cadc8bcb",
   "metadata": {},
   "outputs": [],
   "source": [
    "def remove_file(target_path,target_file):\n",
    "    files = glob.glob(os.path.join(target_path, target_file))\n",
    "    for file in files:\n",
    "        os.remove(file)"
   ]
  },
  {
   "cell_type": "code",
   "execution_count": null,
   "id": "708546e4",
   "metadata": {},
   "outputs": [],
   "source": [
    "def format_time(input_decimal):\n",
    "    return f'{format_time_hhmmss(str(input_decimal).split(\".\")[0])} {format_time_milliseconds(str(input_decimal).split(\".\")[1])}'\n",
    "\n",
    "def format_time_hhmmss(input_decimal):\n",
    "    input_decimal = int(input_decimal)\n",
    "    input_decimal %= 24 * 3600\n",
    "    hours = int(input_decimal // 3600)\n",
    "    minutes = int((input_decimal % 3600) // 60)\n",
    "    seconds = int(input_decimal % 60)\n",
    "    result = \"{:02d}:{:02d}:{:02d}\".format(hours, minutes, seconds)\n",
    "    return result\n",
    "\n",
    "def format_time_milliseconds(input_decimal):\n",
    "    input_str = str(input_decimal)\n",
    "    if (len(input_str) > 12) :\n",
    "        input_str = input_str[0:12]\n",
    "    num_spaces = 12 - len(input_str)\n",
    "    input_str = input_str.ljust(12, '0')\n",
    "    formatted_number = ' '.join([input_str[i:i+3] for i in range(0, len(input_str), 3)])\n",
    "    return formatted_number\n",
    "\n",
    "def format_time_units():\n",
    "    return f'hh:mm:ss |ms |µs |ns |ps'\n",
    "\n",
    "def get_clocks(nodes):\n",
    "    clocks = [clock for clock in nodes if clock.type == \"Clock\"]\n",
    "    return clocks\n",
    "\n",
    "def get_main_clock(clocks):\n",
    "    return random.choice(clocks)\n",
    "\n",
    "def get_slave_clocks(clocks,main_clock):\n",
    "    return [clock for clock in clocks if clock != main_clock]\n"
   ]
  }
 ],
 "metadata": {
  "kernelspec": {
   "display_name": "Python 3 (ipykernel)",
   "language": "python",
   "name": "python3"
  },
  "language_info": {
   "codemirror_mode": {
    "name": "ipython",
    "version": 3
   },
   "file_extension": ".py",
   "mimetype": "text/x-python",
   "name": "python",
   "nbconvert_exporter": "python",
   "pygments_lexer": "ipython3",
   "version": "3.11.6"
  },
  "varInspector": {
   "cols": {
    "lenName": 16,
    "lenType": 16,
    "lenVar": 40
   },
   "kernels_config": {
    "python": {
     "delete_cmd_postfix": "",
     "delete_cmd_prefix": "del ",
     "library": "var_list.py",
     "varRefreshCmd": "print(var_dic_list())"
    },
    "r": {
     "delete_cmd_postfix": ") ",
     "delete_cmd_prefix": "rm(",
     "library": "var_list.r",
     "varRefreshCmd": "cat(var_dic_list()) "
    }
   },
   "types_to_exclude": [
    "module",
    "function",
    "builtin_function_or_method",
    "instance",
    "_Feature"
   ],
   "window_display": false
  }
 },
 "nbformat": 4,
 "nbformat_minor": 5
}
