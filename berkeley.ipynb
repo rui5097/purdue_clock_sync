{
 "cells": [
  {
   "cell_type": "code",
   "execution_count": 1,
   "id": "344da0e9",
   "metadata": {},
   "outputs": [],
   "source": [
    "import csv\n",
    "import random\n",
    "from datetime import datetime, timedelta\n",
    "base_time = 0\n",
    "%run delay.ipynb"
   ]
  },
  {
   "cell_type": "code",
   "execution_count": 2,
   "id": "9e20f383",
   "metadata": {},
   "outputs": [],
   "source": [
    "def generate_random_time():\n",
    "    # Use a specific date as a base time\n",
    "    random_error = timedelta(hours=random.uniform(-1, 1))\n",
    "    return base_time + random_error\n",
    "\n",
    "def get_time_from_csv(data,nodes):\n",
    "    nodes_time = {}\n",
    "    i = 0\n",
    "    for node in nodes:\n",
    "        nodes_time[node] = float(data[1][i])\n",
    "        i+=1\n",
    "    return nodes_time\n",
    "\n",
    "def read_csv(file_path):\n",
    "    with open(file_path, 'r') as file:\n",
    "        reader = csv.reader(file)\n",
    "        data = [row for row in reader]\n",
    "    return data\n",
    "\n",
    "def cristian_algorithm(node_time, delay):\n",
    "    return node_time + (delay / 2)\n",
    "\n",
    "def berkeley_algorithm(data,main_node=\"\"):\n",
    "    nodes = set()\n",
    "    delays = {}\n",
    "\n",
    "    for row in data[2:]:\n",
    "        source, dest, delay_str = row\n",
    "        nodes.add(source)\n",
    "        nodes.add(dest)\n",
    "        delays[(source, dest)] = float(delay_str)\n",
    "    \n",
    "    if(main_node==\"\"):\n",
    "        main_node = random.choice(list(nodes))\n",
    "\n",
    "#     print(f\"Main Node: {main_node}\")\n",
    "    other_nodes = [node for node in nodes if node != main_node]\n",
    "#     print(f\"Other Nodes: {other_nodes}\")\n",
    "\n",
    "#     print(\"\\nOriginal Times:\")\n",
    "    node_times = get_time_from_csv(data,nodes)\n",
    "#     for node, time in node_times.items():\n",
    "#         print(f\"{node}: {time}\")\n",
    "\n",
    "#     print(\"\\nCristian Algorithm:\")\n",
    "#     print(\"Sub Nodes' Time in Main Node:\")  \n",
    "    for node in other_nodes:\n",
    "        # Use Cristian algorithm to get each node's time\n",
    "        node_times[node] = cristian_algorithm(node_times[node], delays[(main_node, node)]+delays[(node,main_node)])\n",
    "#         print(f\"{node}: {node_times[node]}\")\n",
    "    \n",
    "    delay_sum = 0\n",
    "    for node in nodes:\n",
    "        delay_sum+=base_time-node_times[node]\n",
    "        \n",
    "    # Calculate the average delay\n",
    "    average_delay = delay_sum/(len(nodes))\n",
    "    average_time = base_time-average_delay\n",
    "    \n",
    "    print(\"\\nBerkeley Algorithm:\")\n",
    "    for node in nodes:\n",
    "        correction = average_time - node_times[node]\n",
    "        node_times[node] += correction\n",
    "\n",
    "#     print(\"\\nModified Time:\")\n",
    "#     for node, time in node_times.items():\n",
    "#         print(f\"{node}: {format_time(time)}\")\n",
    "    \n",
    "    return average_time"
   ]
  },
  {
   "cell_type": "code",
   "execution_count": 3,
   "id": "42305c20",
   "metadata": {},
   "outputs": [],
   "source": [
    "def run_berkeley_algorithm(main_node,step=0):\n",
    "    file_path = f\"{config.get('config', 'output_clocks_delay')}clocks_delay_{step}.csv\"\n",
    "    data = read_csv(file_path)\n",
    "    return berkeley_algorithm(data=data,main_node=main_node)"
   ]
  }
 ],
 "metadata": {
  "kernelspec": {
   "display_name": "Python 3 (ipykernel)",
   "language": "python",
   "name": "python3"
  },
  "language_info": {
   "codemirror_mode": {
    "name": "ipython",
    "version": 3
   },
   "file_extension": ".py",
   "mimetype": "text/x-python",
   "name": "python",
   "nbconvert_exporter": "python",
   "pygments_lexer": "ipython3",
   "version": "3.11.6"
  },
  "varInspector": {
   "cols": {
    "lenName": 16,
    "lenType": 16,
    "lenVar": 40
   },
   "kernels_config": {
    "python": {
     "delete_cmd_postfix": "",
     "delete_cmd_prefix": "del ",
     "library": "var_list.py",
     "varRefreshCmd": "print(var_dic_list())"
    },
    "r": {
     "delete_cmd_postfix": ") ",
     "delete_cmd_prefix": "rm(",
     "library": "var_list.r",
     "varRefreshCmd": "cat(var_dic_list()) "
    }
   },
   "types_to_exclude": [
    "module",
    "function",
    "builtin_function_or_method",
    "instance",
    "_Feature"
   ],
   "window_display": false
  }
 },
 "nbformat": 4,
 "nbformat_minor": 5
}
